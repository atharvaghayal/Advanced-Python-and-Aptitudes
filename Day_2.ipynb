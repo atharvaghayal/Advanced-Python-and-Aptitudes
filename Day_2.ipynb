{
  "nbformat": 4,
  "nbformat_minor": 0,
  "metadata": {
    "colab": {
      "private_outputs": true,
      "provenance": [],
      "authorship_tag": "ABX9TyOdDaCF5HOeaPCHYixTqZdJ",
      "include_colab_link": true
    },
    "kernelspec": {
      "name": "python3",
      "display_name": "Python 3"
    },
    "language_info": {
      "name": "python"
    }
  },
  "cells": [
    {
      "cell_type": "markdown",
      "metadata": {
        "id": "view-in-github",
        "colab_type": "text"
      },
      "source": [
        "<a href=\"https://colab.research.google.com/github/atharvaghayal/Advanced-Python-and-Aptitudes/blob/main/Day_2.ipynb\" target=\"_parent\"><img src=\"https://colab.research.google.com/assets/colab-badge.svg\" alt=\"Open In Colab\"/></a>"
      ]
    },
    {
      "cell_type": "code",
      "execution_count": null,
      "metadata": {
        "id": "rGYhwypzKg3l"
      },
      "outputs": [],
      "source": [
        "#Print 1 to 10 with While loop\n",
        "i=1\n",
        "while i<=10:\n",
        " print(i)\n",
        " i=i+1\n",
        "print(\" \")\n"
      ]
    },
    {
      "cell_type": "code",
      "source": [
        "#Print 10 to 1 with While loop\n",
        "i=10\n",
        "while i>=1:\n",
        " print(i)\n",
        " i=i-1\n",
        "print(\" \")"
      ],
      "metadata": {
        "id": "NUZvgsMwU6Ui"
      },
      "execution_count": null,
      "outputs": []
    },
    {
      "cell_type": "code",
      "source": [
        "#Sum 1 to 10 with While loop\n",
        "i=1\n",
        "sum=0\n",
        "while i<=10:\n",
        "  sum=sum+1\n",
        "  i=i+1\n",
        "print(\"Sum = \",sum)\n",
        "print(\" \")\n"
      ],
      "metadata": {
        "id": "PXH-m0CCU_ep"
      },
      "execution_count": null,
      "outputs": []
    },
    {
      "cell_type": "code",
      "source": [
        "#Sum 1 to 10 with For loop\n",
        "sum=0\n",
        "for i in range(1,11):\n",
        "  sum=sum+1\n",
        "print(\"Sum =\",sum)\n",
        "print(\" \")\n"
      ],
      "metadata": {
        "id": "N_f6bHUmVCB0"
      },
      "execution_count": null,
      "outputs": []
    },
    {
      "cell_type": "code",
      "source": [
        "#for i in range(10,0,-2)"
      ],
      "metadata": {
        "id": "0CgGJ6WiVHiL"
      },
      "execution_count": null,
      "outputs": []
    },
    {
      "cell_type": "code",
      "source": [
        "#Print length using for loop\n",
        "arr=[123123,12,3212,12,2]\n",
        "s=\"Atharva\"\n",
        "for i in range(len(arr)):\n",
        "  print(arr[i])\n",
        "print(\" \")\n",
        "for i in range(len(s)):\n",
        "  print(s[i])\n",
        "print(\" \")\n"
      ],
      "metadata": {
        "id": "_Zdr061KVMjR"
      },
      "execution_count": null,
      "outputs": []
    },
    {
      "cell_type": "code",
      "source": [
        "#Print length using for loop and without using any functions\n",
        "for x in arr:\n",
        "  print(x)\n",
        "print(\" \")\n",
        "for x in s:\n",
        "  print(x)\n",
        "print(\" \")\n",
        "\n",
        "no=int(input(\"Enter a number: \"))\n",
        "if no%2==0:\n",
        " print(no, \" is an even number\")\n",
        "if no%2!=0:\n",
        "  print(no, \" Is an Odd number\")\n",
        "\n"
      ],
      "metadata": {
        "id": "jmp-Lx18VSML"
      },
      "execution_count": null,
      "outputs": []
    },
    {
      "cell_type": "code",
      "source": [
        "#Accept 5 numbers and find the max\n",
        "n1=int(input(\"Please enter the first number: \"))\n",
        "n2=int(input(\"Please enter the Second number: \"))\n",
        "n3=int(input(\"Please enter the third number: \"))\n",
        "n4=int(input(\"Please enter the forth number: \"))\n",
        "n5=int(input(\"Please enter the fifth number: \"))\n",
        "max=n1\n",
        "if max<n2:\n",
        "  max=n2\n",
        "if max<n3:\n",
        "  max=n3\n",
        "if max<n4:\n",
        "  max=n4\n",
        "if max<n5:\n",
        "  max=n5\n",
        "print(\"Maximum number is \",max)"
      ],
      "metadata": {
        "id": "oAWHCcq0VWDy"
      },
      "execution_count": null,
      "outputs": []
    },
    {
      "cell_type": "code",
      "source": [
        "#Accept 3 paper marks and if any one of the paper marks is less that 45 show\"fail\" or show\"Pass\"\n",
        "a=int(input(\"Enter the first paper marks:\"))\n",
        "b=int(input(\"Enter the second paper marks:\"))\n",
        "c=int(input(\"Enter the third paper marks:\"))\n",
        "if a<45 or b<45 or c<45:\n",
        "  print(\"Fail\")\n",
        "else:\n",
        "  print(\"Pass\")"
      ],
      "metadata": {
        "id": "4HTvn_J7Visd"
      },
      "execution_count": null,
      "outputs": []
    },
    {
      "cell_type": "code",
      "source": [
        "#Accept 3 paper marks and and find marks and percentage.\n",
        "a=int(input(\"Enter the first paper marks:\"))\n",
        "b=int(input(\"Enter the second paper marks:\"))\n",
        "c=int(input(\"Enter the third paper marks:\"))\n",
        "marks=a+b+c\n",
        "percentage=marks/3\n",
        "print(\"Marks = \",marks)\n",
        "print(\"Percentage = \",percentage)"
      ],
      "metadata": {
        "id": "_VeIa-TGVuPi"
      },
      "execution_count": null,
      "outputs": []
    },
    {
      "cell_type": "code",
      "source": [
        "n1=int(input(\"What is the marks of your first subject marks (Out of 100): \"))\n",
        "n2=int(input(\"What is the marks of your Second subject marks (Out of 100): \"))\n",
        "n3=int(input(\"What is the marks of your Third subject marks (Out of 100): \"))\n",
        "if n1<45 or n2<45 or n3<45:\n",
        "  print(\"Fail\")\n",
        "else:\n",
        "  print(\"Pass\")\n",
        "total=n1+n2+n3\n",
        "print(\"Your total marks out of 300: \", total)\n",
        "per=total/3\n",
        "print(\"Your Percentage is: \", per)"
      ],
      "metadata": {
        "id": "dEQzo6h_V21b"
      },
      "execution_count": null,
      "outputs": []
    },
    {
      "cell_type": "code",
      "source": [
        "#Accept day and tell whether it is weekend or weekday\n",
        "day=str(input(\"Please enter today's day (all small): \"))\n",
        "if day==\"sat\" or day==\"sat\":\n",
        "  print(\"Today is weekend\")\n",
        "else:\n",
        "  print(\"Today is weekday\")"
      ],
      "metadata": {
        "id": "1S4H4TfIV70m"
      },
      "execution_count": null,
      "outputs": []
    },
    {
      "cell_type": "code",
      "source": [
        "#Accept a character and tell if its a vowel or consonent\n",
        "char=str(input(\"Please enter a single character: \"))\n",
        "if char == \"a\" or char == \"e\" or char == \"i\" or char == \"o\" or char == \"u\":\n",
        "  print(\"The character\",char,\"is a Vowel\")\n",
        "else:\n",
        "  print(\"The character\",char,\"is a Consonents\")"
      ],
      "metadata": {
        "id": "TR5qA8AXV-x6"
      },
      "execution_count": null,
      "outputs": []
    },
    {
      "cell_type": "code",
      "source": [
        "#Accept a character and check character is upper case or lower case or is it a digit ya spacial symbol\n",
        "ch= input(\"character\")\n",
        "ch=ord(ch)\n",
        "if ch>=65 and ch<=90:\n",
        "  print(\"The Character is upper case\")\n",
        "elif ch>=97 and ch<=122:\n",
        " print(\"The Character is lower case\")\n",
        "elif ch>=48 and ch<=57:\n",
        "  print(\"The Character is a digit\")\n",
        "else:\n",
        "  print(\"The Character is a Special Character\")\n"
      ],
      "metadata": {
        "id": "jbjsyT0ZWCBq"
      },
      "execution_count": null,
      "outputs": []
    },
    {
      "cell_type": "code",
      "source": [
        "#Chack whether the year is a leap year or not\n",
        "year= int(input(\"Please enter a year: \"))\n",
        "if year%100==0 and year%4==0:\n",
        "  print(\"This is a Centurian leap year\")\n",
        "if year%100!=0 and year%4==0:\n",
        "  print(\"This is a Non-Centurian leap year\")\n",
        "else:\n",
        "  print(\"It is not a leap year\")\n"
      ],
      "metadata": {
        "id": "dTfDQndrWFTI"
      },
      "execution_count": null,
      "outputs": []
    },
    {
      "cell_type": "code",
      "source": [
        "#WAP to accept cost price from user and as whether the user is s student or not\n",
        "a=int(input(\"Enter the cost price of the product: \"))\n",
        "b=input(\"Are you a student (yes/no): \")\n",
        "  #If user is a student and cost greater than 500 - discount 10% else 5%\n",
        "#If user is a not student and cost greater than 500 - discount 8% else 2%\n",
        "if a>500:\n",
        "  d1=a-(a*10//100)\n",
        "  print(\"Your net cost now is adjusted to: \",d1)\n",
        "else:\n",
        "  d2=a-(a*5/100)\n",
        "  print(\"Your net cost now is adjusted to: \",d2)"
      ],
      "metadata": {
        "id": "2shsHokfWIG9"
      },
      "execution_count": null,
      "outputs": []
    },
    {
      "cell_type": "code",
      "source": [
        "#Count the no.of digits\n",
        "#find factorial\n",
        "num=int(input(\"Enter a number: \"))\n",
        "count=0\n",
        "while num>0:\n",
        "  rem=num%10\n",
        "  num=num//10\n",
        "  count=count+1\n",
        "print(\"The no.of digits are: \",count)"
      ],
      "metadata": {
        "id": "4V-xtoHTY9Mm"
      },
      "execution_count": null,
      "outputs": []
    },
    {
      "cell_type": "code",
      "source": [
        "#Sum of digits\n",
        "num=int(input(\"Enter a number: \"))\n",
        "sum=0\n",
        "while num>0:\n",
        "  rem=num%10\n",
        "  sum=sum+rem\n",
        "  num=num//10\n",
        "print(\"The sum of digits are: \",sum)"
      ],
      "metadata": {
        "id": "sTAVsnyPY_QO"
      },
      "execution_count": null,
      "outputs": []
    },
    {
      "cell_type": "code",
      "source": [
        "#FInd factorial\n",
        "num=int(input(\"Enter a number: \"))\n",
        "fact=1\n",
        "while num>0:\n",
        "  fact=fact*num\n",
        "  num=num-1\n",
        "print(\"Factorial of the number is: \",fact)"
      ],
      "metadata": {
        "id": "FWtN39-9ZBje"
      },
      "execution_count": null,
      "outputs": []
    },
    {
      "cell_type": "code",
      "source": [
        "#Find a number is an Armstrong number is or not\n",
        "num=int(input(\"Enter a number: \"))\n",
        "sum=0\n",
        "nsave1=num\n",
        "nsave2=num\n",
        "count=0\n",
        "while num>0:\n",
        "  num=num//10\n",
        "  count=count+1\n",
        "while nsave1>0:\n",
        "  rem=nsave1%10\n",
        "  rem=rem**count\n",
        "  sum=sum+rem\n",
        "  nsave1=nsave1//10\n",
        "if nsave2==sum:\n",
        "  print(\"This number is an Armstring number\")\n",
        "else:\n",
        "  print(\"This number is not an Armstring number\")"
      ],
      "metadata": {
        "id": "1g5nt24wZETG"
      },
      "execution_count": null,
      "outputs": []
    },
    {
      "cell_type": "code",
      "source": [
        "#Find a number is an Armstrong number is or not\n",
        "num=int(input(\"Enter a number: \"))\n",
        "sum=0\n",
        "nsave=num\n",
        "while num>0:\n",
        "  rem=num%10\n",
        "  rem=rem**3\n",
        "  sum=sum+rem\n",
        "  num=num//10\n",
        "if nsave==sum:\n",
        "  print(\"This number is an Armstring number\")\n",
        "else:\n",
        "  print(\"This number is not an Armstring number\")"
      ],
      "metadata": {
        "id": "YQNLw8hrZIYY"
      },
      "execution_count": null,
      "outputs": []
    },
    {
      "cell_type": "code",
      "source": [
        "#Print all Armstring numbers between 1 to 10,000\n",
        "\n",
        "for num in range(1,10001):\n",
        "  num=0\n",
        "  num=num+1\n",
        "  sum=0\n",
        "  nsave1=num\n",
        "  nsave2=num\n",
        "  count=0\n",
        "  while num>0:\n",
        "    rem=num%10\n",
        "    nsave1=num//10\n",
        "    count=count+1\n",
        "  while nsave1>0:\n",
        "    rem=nsave1%10\n",
        "    rem=rem**count\n",
        "    sum=sum+rem\n",
        "    nsave1=nsave1//10\n",
        "if nsave2==sum:\n",
        "  print(\"This number is an Armstring number\")\n",
        "else:\n",
        "  print(\"This number is not an Armstring number\")"
      ],
      "metadata": {
        "id": "KZWXywKDZMKT"
      },
      "execution_count": null,
      "outputs": []
    },
    {
      "cell_type": "code",
      "source": [
        "#Check whether a given number is Palindrome\n",
        "#Print Palindrome numbers between 1 to 10,000\n",
        "#Find Factorial of any number\n",
        "num=int(input(\"Enter any number:\"))\n",
        "fact=1\n",
        "for i in range(1,num+1):\n",
        "    fact=fact*i\n",
        "print(\"Factorial of\",num,\"is\",fact)\n",
        "#Print sum of all numbers between 1 tp 20\n",
        "sum=0\n",
        "for i in range (1,21):\n",
        "  if i%2==0:\n",
        "    sum=sum+i\n",
        "print(sum)"
      ],
      "metadata": {
        "id": "FuD9OfVOZPkL"
      },
      "execution_count": null,
      "outputs": []
    },
    {
      "cell_type": "code",
      "source": [
        "#Print Fibonacci series\n",
        "n=int(input(\"Enter nth number: \"))\n",
        "f0=0\n",
        "f1=1\n",
        "print(f0,\"\\t\",f1,end=\"\"-+)\n",
        "for i in range (3, n+1):\n",
        "  f2=f0+f1\n",
        "  print(\"\\t\",f2,end=\"\")\n",
        "  f0=f1\n",
        "  f1=f2"
      ],
      "metadata": {
        "id": "bfeuGy0_ZU9J"
      },
      "execution_count": null,
      "outputs": []
    },
    {
      "cell_type": "code",
      "source": [
        "#Find the sum of this series\n",
        "#sum=1 + x^1/1 + x^2/2 + x^3/3 ............ x^n/n\n",
        "x=int(input(\"Enter the value of x: \"))\n",
        "n=int(input(\"Enter the value of n: \"))\n",
        "sum = 1\n",
        "print(sum, end=\"\")\n",
        "for i in range(1, n+1):\n",
        "  sum=sum+(x**i/i)\n",
        "  print(\"+ x^\",i,\"/\",i, end=\"\")\n",
        "print(\"\\t = \", sum)"
      ],
      "metadata": {
        "id": "Ca5iAKPJZXSx"
      },
      "execution_count": null,
      "outputs": []
    },
    {
      "cell_type": "code",
      "source": [
        "#Find the sum of this series\n",
        "#sum=1 + x^1/1! + x^2/2! + x^3/3! ............ x^n/n!\n",
        "\n",
        "x=int(input(\"Enter the value of x: \"))\n",
        "n=int(input(\"Enter the value of n: \"))\n",
        "sum = 1\n",
        "print(sum, end=\"\")\n",
        "for i in range(1, n+1):\n",
        "  fact=1\n",
        "  for i in range(1,n+1):\n",
        "    fact=fact*i\n",
        "  sum=sum+(x**i/fact)\n",
        "  print(\"+ x^\",i,\"/\",i,\"!\", end=\"\")\n",
        "print(\"Sum = \", sum)"
      ],
      "metadata": {
        "id": "GgKX-4_TZaOV"
      },
      "execution_count": null,
      "outputs": []
    },
    {
      "cell_type": "code",
      "source": [
        "#Multiply without using *\n",
        "x=int(input(\"Enter the value of x: \"))\n",
        "n=int(input(\"Enter the value of n: \"))\n",
        "sum = 0\n",
        "for i in range(1, n+1):\n",
        "  sum=sum+x\n",
        "print(\"Product = \", sum)"
      ],
      "metadata": {
        "id": "s-rVNYsMZfTg"
      },
      "execution_count": null,
      "outputs": []
    },
    {
      "cell_type": "code",
      "source": [
        "#Exponent\n",
        "x=int(input(\"Enter the value of x: \"))\n",
        "n=int(input(\"Enter the value of n: \"))\n",
        "sum = 1\n",
        "for i in range(1, n+1):\n",
        "  sum=sum*x\n",
        "print(\"Product = \", sum)"
      ],
      "metadata": {
        "id": "60MDMEejZmho"
      },
      "execution_count": null,
      "outputs": []
    },
    {
      "cell_type": "code",
      "source": [
        "# Break\n",
        "for i in range(1,11):\n",
        "  if i==5:\n",
        "    break\n",
        "  print(i)\n",
        "\n",
        "# continue\n",
        "for i in range(1,11):\n",
        "  if i==5:\n",
        "    continue\n",
        "  print(i)"
      ],
      "metadata": {
        "id": "9lyzbqEgZown"
      },
      "execution_count": null,
      "outputs": []
    },
    {
      "cell_type": "code",
      "source": [
        "#A number is called a tech number if the given number has an even number of digits and the number can be divided exactly into to parts from the middle. and after equally dividing the number, sum up the numbers and find the suare of the sum. If we get the numbers itself as a square,n then it is a tech number.\n",
        "#2025 is a tech number\n",
        "#2025 = 20  25\n",
        "#20+45\n",
        "#45*45=2025"
      ],
      "metadata": {
        "id": "q-xz5gc7ZwuO"
      },
      "execution_count": null,
      "outputs": []
    }
  ]
}